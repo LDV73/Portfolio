{
 "cells": [
  {
   "cell_type": "markdown",
   "id": "1ab53246",
   "metadata": {
    "toc": true
   },
   "source": [
    "<h1>Содержание<span class=\"tocSkip\"></span></h1>\n",
    "<div class=\"toc\"><ul class=\"toc-item\"><li><span><a href=\"#Описание-проекта\" data-toc-modified-id=\"Описание-проекта-1\"><span class=\"toc-item-num\">1&nbsp;&nbsp;</span>Описание проекта</a></span><ul class=\"toc-item\"><li><span><a href=\"#Задача\" data-toc-modified-id=\"Задача-1.1\"><span class=\"toc-item-num\">1.1&nbsp;&nbsp;</span>Задача</a></span></li><li><span><a href=\"#Данные\" data-toc-modified-id=\"Данные-1.2\"><span class=\"toc-item-num\">1.2&nbsp;&nbsp;</span>Данные</a></span></li><li><span><a href=\"#Метрика-качества\" data-toc-modified-id=\"Метрика-качества-1.3\"><span class=\"toc-item-num\">1.3&nbsp;&nbsp;</span>Метрика качества</a></span></li><li><span><a href=\"#План-проекта\" data-toc-modified-id=\"План-проекта-1.4\"><span class=\"toc-item-num\">1.4&nbsp;&nbsp;</span>План проекта</a></span></li></ul></li><li><span><a href=\"#Импорт-данных\" data-toc-modified-id=\"Импорт-данных-2\"><span class=\"toc-item-num\">2&nbsp;&nbsp;</span>Импорт данных</a></span><ul class=\"toc-item\"><li><span><a href=\"#Импорт-библиотек\" data-toc-modified-id=\"Импорт-библиотек-2.1\"><span class=\"toc-item-num\">2.1&nbsp;&nbsp;</span>Импорт библиотек</a></span></li><li><span><a href=\"#Определение-констант\" data-toc-modified-id=\"Определение-констант-2.2\"><span class=\"toc-item-num\">2.2&nbsp;&nbsp;</span>Определение констант</a></span></li><li><span><a href=\"#Импорт-и-обзор-данных\" data-toc-modified-id=\"Импорт-и-обзор-данных-2.3\"><span class=\"toc-item-num\">2.3&nbsp;&nbsp;</span>Импорт и обзор данных</a></span></li></ul></li><li><span><a href=\"#Подготовка-данных\" data-toc-modified-id=\"Подготовка-данных-3\"><span class=\"toc-item-num\">3&nbsp;&nbsp;</span>Подготовка данных</a></span><ul class=\"toc-item\"><li><span><a href=\"#Стоп-слова\" data-toc-modified-id=\"Стоп-слова-3.1\"><span class=\"toc-item-num\">3.1&nbsp;&nbsp;</span>Стоп-слова</a></span></li><li><span><a href=\"#Очистка-текста\" data-toc-modified-id=\"Очистка-текста-3.2\"><span class=\"toc-item-num\">3.2&nbsp;&nbsp;</span>Очистка текста</a></span></li><li><span><a href=\"#Лемматизация\" data-toc-modified-id=\"Лемматизация-3.3\"><span class=\"toc-item-num\">3.3&nbsp;&nbsp;</span>Лемматизация</a></span></li><li><span><a href=\"#Разбиение-выборки-на-обучающую,-валидационную-и-тестовую\" data-toc-modified-id=\"Разбиение-выборки-на-обучающую,-валидационную-и-тестовую-3.4\"><span class=\"toc-item-num\">3.4&nbsp;&nbsp;</span>Разбиение выборки на обучающую, валидационную и тестовую</a></span></li><li><span><a href=\"#Векторизация\" data-toc-modified-id=\"Векторизация-3.5\"><span class=\"toc-item-num\">3.5&nbsp;&nbsp;</span>Векторизация</a></span><ul class=\"toc-item\"><li><span><a href=\"#Мешок-слов-(BOW)\" data-toc-modified-id=\"Мешок-слов-(BOW)-3.5.1\"><span class=\"toc-item-num\">3.5.1&nbsp;&nbsp;</span>Мешок слов (BOW)</a></span></li><li><span><a href=\"#TF-IDF\" data-toc-modified-id=\"TF-IDF-3.5.2\"><span class=\"toc-item-num\">3.5.2&nbsp;&nbsp;</span>TF-IDF</a></span></li></ul></li></ul></li><li><span><a href=\"#Обучение\" data-toc-modified-id=\"Обучение-4\"><span class=\"toc-item-num\">4&nbsp;&nbsp;</span>Обучение</a></span></li><li><span><a href=\"#Тестирование\" data-toc-modified-id=\"Тестирование-5\"><span class=\"toc-item-num\">5&nbsp;&nbsp;</span>Тестирование</a></span></li><li><span><a href=\"#Выводы\" data-toc-modified-id=\"Выводы-6\"><span class=\"toc-item-num\">6&nbsp;&nbsp;</span>Выводы</a></span></li></ul></div>"
   ]
  },
  {
   "cell_type": "markdown",
   "id": "af17b9f7",
   "metadata": {},
   "source": [
    "# Поиск токсичных пользовательских комментариев"
   ]
  },
  {
   "cell_type": "markdown",
   "id": "6ed101a8",
   "metadata": {},
   "source": [
    "## Описание проекта"
   ]
  },
  {
   "cell_type": "markdown",
   "id": "d995074a",
   "metadata": {},
   "source": [
    "### Задача"
   ]
  },
  {
   "cell_type": "markdown",
   "id": "1b4f5afc",
   "metadata": {},
   "source": [
    "На основании имеющихся данных с комментариями пользователей необходимо подготовить прототип модели машинного обучения для классификации этих комментариев на токсичные и нетоксичные, что позволит в дальнейшем выявленые моделью негативные комментарии отправлять на модерацию. \n",
    "<br>Таким образом, перед нами задача бинарной классификации."
   ]
  },
  {
   "cell_type": "markdown",
   "id": "06f249a9",
   "metadata": {},
   "source": [
    "### Данные"
   ]
  },
  {
   "cell_type": "markdown",
   "id": "155d8045",
   "metadata": {},
   "source": [
    "В нашем распоряжении файл ***`toxic_comments.csv`***, содержащий набор данных с разметкой о токсичности представленных в нем комментариев. Файл содержит всего два столбца:\n",
    "- *`text`* - собственно текст комментария\n",
    "- *`toxic`* - признак того, что комментарий является токсичным"
   ]
  },
  {
   "cell_type": "markdown",
   "id": "286dd75f",
   "metadata": {},
   "source": [
    "### Метрика качества"
   ]
  },
  {
   "cell_type": "markdown",
   "id": "cb2121db",
   "metadata": {},
   "source": [
    "Согласно ТЗ в качестве метрики необходимо использовать $F_1$-меру. \n",
    "\n",
    "$$\n",
    "F_1 = 2\\cdot\\frac{precision\\cdot recall}{precision + recall}\n",
    "$$\n",
    "\n",
    "где &nbsp; $precision = \\displaystyle\\frac{TP}{TP + FP}$ &mdash; это точность, &nbsp; $recall = \\displaystyle\\frac{TP}{TP + FN}$ &mdash; это полнота, &nbsp; а $TP, FP$ &mdash; количество правильных и неверных предсказаний позитивного класса, &nbsp; $FN$ &mdash; количество неверных предсказаний негативного класса.\n",
    "\n",
    "<br>Целевое значение метрики для прототипа &mdash; не ниже 0.75. "
   ]
  },
  {
   "cell_type": "markdown",
   "id": "8fb8fc5d",
   "metadata": {},
   "source": [
    "### План проекта"
   ]
  },
  {
   "cell_type": "markdown",
   "id": "f3c3c6b3",
   "metadata": {},
   "source": [
    "1. Подготовка данных.\n",
    "2. Исследовательский анализ данных.\n",
    "3. Обучение моделей.\n",
    "4. Выбор лучшей модели и проверка на тестовой выборке.\n",
    "5. Выводы."
   ]
  },
  {
   "cell_type": "markdown",
   "id": "76797be2",
   "metadata": {},
   "source": [
    "## Импорт данных"
   ]
  },
  {
   "cell_type": "markdown",
   "id": "e0e9adee",
   "metadata": {},
   "source": [
    "### Импорт библиотек"
   ]
  },
  {
   "cell_type": "markdown",
   "id": "51564877",
   "metadata": {},
   "source": [
    "Импортируем необходимые библиотеки и функции."
   ]
  },
  {
   "cell_type": "code",
   "execution_count": 1,
   "id": "8ef69e1d",
   "metadata": {},
   "outputs": [],
   "source": [
    "import pandas as pd\n",
    "from tqdm import tqdm\n",
    "import nltk\n",
    "import spacy\n",
    "import sys\n",
    "from nltk.corpus import stopwords as nltk_stopwords\n",
    "from nltk import pos_tag\n",
    "from nltk.tokenize import word_tokenize \n",
    "from sklearn.feature_extraction.text import TfidfVectorizer \n",
    "from sklearn.feature_extraction.text import CountVectorizer\n",
    "import re\n",
    "from sklearn.model_selection import train_test_split\n",
    "from sklearn.metrics import f1_score, precision_score, recall_score, accuracy_score\n",
    "from sklearn.linear_model import LogisticRegression\n",
    "from sklearn.ensemble import RandomForestClassifier\n",
    "from sklearn.svm import LinearSVC\n",
    "from sklearn.model_selection import RandomizedSearchCV\n",
    "from sklearn.model_selection import GridSearchCV\n",
    "from IPython.display import clear_output"
   ]
  },
  {
   "cell_type": "code",
   "execution_count": 2,
   "id": "c914d38a",
   "metadata": {},
   "outputs": [
    {
     "name": "stderr",
     "output_type": "stream",
     "text": [
      "[nltk_data] Downloading package stopwords to\n",
      "[nltk_data]     C:\\Users\\LDV\\AppData\\Roaming\\nltk_data...\n",
      "[nltk_data]   Package stopwords is already up-to-date!\n"
     ]
    },
    {
     "name": "stdout",
     "output_type": "stream",
     "text": [
      "Collecting en-core-web-sm==3.3.0\n",
      "  Downloading https://github.com/explosion/spacy-models/releases/download/en_core_web_sm-3.3.0/en_core_web_sm-3.3.0-py3-none-any.whl (12.8 MB)\n",
      "     ---------------------------------------- 12.8/12.8 MB 9.2 MB/s eta 0:00:00\n",
      "Requirement already satisfied: spacy<3.4.0,>=3.3.0.dev0 in e:\\users\\ldv\\anaconda3\\lib\\site-packages (from en-core-web-sm==3.3.0) (3.3.1)\n",
      "Requirement already satisfied: langcodes<4.0.0,>=3.2.0 in e:\\users\\ldv\\anaconda3\\lib\\site-packages (from spacy<3.4.0,>=3.3.0.dev0->en-core-web-sm==3.3.0) (3.3.0)\n",
      "Requirement already satisfied: numpy>=1.15.0 in c:\\users\\ldv\\appdata\\roaming\\python\\python39\\site-packages (from spacy<3.4.0,>=3.3.0.dev0->en-core-web-sm==3.3.0) (1.23.5)\n",
      "Requirement already satisfied: cymem<2.1.0,>=2.0.2 in e:\\users\\ldv\\anaconda3\\lib\\site-packages (from spacy<3.4.0,>=3.3.0.dev0->en-core-web-sm==3.3.0) (2.0.6)\n",
      "Requirement already satisfied: jinja2 in e:\\users\\ldv\\anaconda3\\lib\\site-packages (from spacy<3.4.0,>=3.3.0.dev0->en-core-web-sm==3.3.0) (2.11.3)\n",
      "Requirement already satisfied: pydantic!=1.8,!=1.8.1,<1.9.0,>=1.7.4 in e:\\users\\ldv\\anaconda3\\lib\\site-packages (from spacy<3.4.0,>=3.3.0.dev0->en-core-web-sm==3.3.0) (1.8.2)\n",
      "Requirement already satisfied: requests<3.0.0,>=2.13.0 in e:\\users\\ldv\\anaconda3\\lib\\site-packages (from spacy<3.4.0,>=3.3.0.dev0->en-core-web-sm==3.3.0) (2.28.1)\n",
      "Requirement already satisfied: spacy-loggers<2.0.0,>=1.0.0 in e:\\users\\ldv\\anaconda3\\lib\\site-packages (from spacy<3.4.0,>=3.3.0.dev0->en-core-web-sm==3.3.0) (1.0.1)\n",
      "Requirement already satisfied: typer<0.5.0,>=0.3.0 in e:\\users\\ldv\\anaconda3\\lib\\site-packages (from spacy<3.4.0,>=3.3.0.dev0->en-core-web-sm==3.3.0) (0.4.1)\n",
      "Requirement already satisfied: thinc<8.1.0,>=8.0.14 in e:\\users\\ldv\\anaconda3\\lib\\site-packages (from spacy<3.4.0,>=3.3.0.dev0->en-core-web-sm==3.3.0) (8.0.15)\n",
      "Requirement already satisfied: blis<0.8.0,>=0.4.0 in e:\\users\\ldv\\anaconda3\\lib\\site-packages (from spacy<3.4.0,>=3.3.0.dev0->en-core-web-sm==3.3.0) (0.7.7)\n",
      "Requirement already satisfied: catalogue<2.1.0,>=2.0.6 in e:\\users\\ldv\\anaconda3\\lib\\site-packages (from spacy<3.4.0,>=3.3.0.dev0->en-core-web-sm==3.3.0) (2.0.7)\n",
      "Requirement already satisfied: setuptools in e:\\users\\ldv\\anaconda3\\lib\\site-packages (from spacy<3.4.0,>=3.3.0.dev0->en-core-web-sm==3.3.0) (65.6.3)\n",
      "Requirement already satisfied: spacy-legacy<3.1.0,>=3.0.9 in e:\\users\\ldv\\anaconda3\\lib\\site-packages (from spacy<3.4.0,>=3.3.0.dev0->en-core-web-sm==3.3.0) (3.0.9)\n",
      "Requirement already satisfied: packaging>=20.0 in e:\\users\\ldv\\anaconda3\\lib\\site-packages (from spacy<3.4.0,>=3.3.0.dev0->en-core-web-sm==3.3.0) (22.0)\n",
      "Requirement already satisfied: srsly<3.0.0,>=2.4.3 in e:\\users\\ldv\\anaconda3\\lib\\site-packages (from spacy<3.4.0,>=3.3.0.dev0->en-core-web-sm==3.3.0) (2.4.3)\n",
      "Requirement already satisfied: pathy>=0.3.5 in e:\\users\\ldv\\anaconda3\\lib\\site-packages (from spacy<3.4.0,>=3.3.0.dev0->en-core-web-sm==3.3.0) (0.6.1)\n",
      "Requirement already satisfied: preshed<3.1.0,>=3.0.2 in e:\\users\\ldv\\anaconda3\\lib\\site-packages (from spacy<3.4.0,>=3.3.0.dev0->en-core-web-sm==3.3.0) (3.0.6)\n",
      "Requirement already satisfied: murmurhash<1.1.0,>=0.28.0 in e:\\users\\ldv\\anaconda3\\lib\\site-packages (from spacy<3.4.0,>=3.3.0.dev0->en-core-web-sm==3.3.0) (1.0.7)\n",
      "Requirement already satisfied: wasabi<1.1.0,>=0.9.1 in e:\\users\\ldv\\anaconda3\\lib\\site-packages (from spacy<3.4.0,>=3.3.0.dev0->en-core-web-sm==3.3.0) (0.9.1)\n",
      "Requirement already satisfied: tqdm<5.0.0,>=4.38.0 in e:\\users\\ldv\\anaconda3\\lib\\site-packages (from spacy<3.4.0,>=3.3.0.dev0->en-core-web-sm==3.3.0) (4.64.1)\n",
      "Requirement already satisfied: smart-open<6.0.0,>=5.0.0 in e:\\users\\ldv\\anaconda3\\lib\\site-packages (from pathy>=0.3.5->spacy<3.4.0,>=3.3.0.dev0->en-core-web-sm==3.3.0) (5.2.1)\n",
      "Requirement already satisfied: typing-extensions>=3.7.4.3 in e:\\users\\ldv\\anaconda3\\lib\\site-packages (from pydantic!=1.8,!=1.8.1,<1.9.0,>=1.7.4->spacy<3.4.0,>=3.3.0.dev0->en-core-web-sm==3.3.0) (4.4.0)\n",
      "Requirement already satisfied: idna<4,>=2.5 in e:\\users\\ldv\\anaconda3\\lib\\site-packages (from requests<3.0.0,>=2.13.0->spacy<3.4.0,>=3.3.0.dev0->en-core-web-sm==3.3.0) (3.4)\n",
      "Requirement already satisfied: charset-normalizer<3,>=2 in e:\\users\\ldv\\anaconda3\\lib\\site-packages (from requests<3.0.0,>=2.13.0->spacy<3.4.0,>=3.3.0.dev0->en-core-web-sm==3.3.0) (2.0.4)\n",
      "Requirement already satisfied: urllib3<1.27,>=1.21.1 in e:\\users\\ldv\\anaconda3\\lib\\site-packages (from requests<3.0.0,>=2.13.0->spacy<3.4.0,>=3.3.0.dev0->en-core-web-sm==3.3.0) (1.26.13)\n",
      "Requirement already satisfied: certifi>=2017.4.17 in e:\\users\\ldv\\anaconda3\\lib\\site-packages (from requests<3.0.0,>=2.13.0->spacy<3.4.0,>=3.3.0.dev0->en-core-web-sm==3.3.0) (2022.12.7)\n",
      "Requirement already satisfied: colorama in e:\\users\\ldv\\anaconda3\\lib\\site-packages (from tqdm<5.0.0,>=4.38.0->spacy<3.4.0,>=3.3.0.dev0->en-core-web-sm==3.3.0) (0.4.6)\n",
      "Requirement already satisfied: click<9.0.0,>=7.1.1 in c:\\users\\ldv\\appdata\\roaming\\python\\python39\\site-packages (from typer<0.5.0,>=0.3.0->spacy<3.4.0,>=3.3.0.dev0->en-core-web-sm==3.3.0) (8.1.3)\n",
      "Requirement already satisfied: MarkupSafe>=0.23 in e:\\users\\ldv\\anaconda3\\lib\\site-packages (from jinja2->spacy<3.4.0,>=3.3.0.dev0->en-core-web-sm==3.3.0) (2.0.1)\n",
      "[+] Download and installation successful\n",
      "You can now load the package via spacy.load('en_core_web_sm')\n"
     ]
    }
   ],
   "source": [
    "nltk.download('stopwords')\n",
    "stopwords = set(nltk_stopwords.words('english'))\n",
    "!{sys.executable} -m spacy download en_core_web_sm"
   ]
  },
  {
   "cell_type": "markdown",
   "id": "0926a902",
   "metadata": {},
   "source": [
    "### Определение констант"
   ]
  },
  {
   "cell_type": "code",
   "execution_count": 3,
   "id": "dbe5b838",
   "metadata": {},
   "outputs": [],
   "source": [
    "RANDOM_STATE = 1234"
   ]
  },
  {
   "cell_type": "markdown",
   "id": "c393b553",
   "metadata": {},
   "source": [
    "### Импорт и обзор данных"
   ]
  },
  {
   "cell_type": "markdown",
   "id": "d74e3cdf",
   "metadata": {},
   "source": [
    "Загрузим датасет и посмотрим его содержание."
   ]
  },
  {
   "cell_type": "code",
   "execution_count": 4,
   "id": "330f2cba",
   "metadata": {
    "scrolled": true
   },
   "outputs": [
    {
     "name": "stdout",
     "output_type": "stream",
     "text": [
      "<class 'pandas.core.frame.DataFrame'>\n",
      "RangeIndex: 159292 entries, 0 to 159291\n",
      "Data columns (total 2 columns):\n",
      " #   Column  Non-Null Count   Dtype \n",
      "---  ------  --------------   ----- \n",
      " 0   text    159292 non-null  object\n",
      " 1   toxic   159292 non-null  int64 \n",
      "dtypes: int64(1), object(1)\n",
      "memory usage: 2.4+ MB\n"
     ]
    }
   ],
   "source": [
    "df = pd.read_csv('./datasets/toxic_comments.csv')\n",
    "df.info()"
   ]
  },
  {
   "cell_type": "code",
   "execution_count": 5,
   "id": "b2bfdb66",
   "metadata": {
    "scrolled": true
   },
   "outputs": [
    {
     "data": {
      "text/html": [
       "<div>\n",
       "<style scoped>\n",
       "    .dataframe tbody tr th:only-of-type {\n",
       "        vertical-align: middle;\n",
       "    }\n",
       "\n",
       "    .dataframe tbody tr th {\n",
       "        vertical-align: top;\n",
       "    }\n",
       "\n",
       "    .dataframe thead th {\n",
       "        text-align: right;\n",
       "    }\n",
       "</style>\n",
       "<table border=\"1\" class=\"dataframe\">\n",
       "  <thead>\n",
       "    <tr style=\"text-align: right;\">\n",
       "      <th></th>\n",
       "      <th>text</th>\n",
       "      <th>toxic</th>\n",
       "    </tr>\n",
       "  </thead>\n",
       "  <tbody>\n",
       "    <tr>\n",
       "      <th>0</th>\n",
       "      <td>Explanation\\nWhy the edits made under my usern...</td>\n",
       "      <td>0</td>\n",
       "    </tr>\n",
       "    <tr>\n",
       "      <th>1</th>\n",
       "      <td>D'aww! He matches this background colour I'm s...</td>\n",
       "      <td>0</td>\n",
       "    </tr>\n",
       "    <tr>\n",
       "      <th>2</th>\n",
       "      <td>Hey man, I'm really not trying to edit war. It...</td>\n",
       "      <td>0</td>\n",
       "    </tr>\n",
       "    <tr>\n",
       "      <th>3</th>\n",
       "      <td>\"\\nMore\\nI can't make any real suggestions on ...</td>\n",
       "      <td>0</td>\n",
       "    </tr>\n",
       "    <tr>\n",
       "      <th>4</th>\n",
       "      <td>You, sir, are my hero. Any chance you remember...</td>\n",
       "      <td>0</td>\n",
       "    </tr>\n",
       "  </tbody>\n",
       "</table>\n",
       "</div>"
      ],
      "text/plain": [
       "                                                text  toxic\n",
       "0  Explanation\\nWhy the edits made under my usern...      0\n",
       "1  D'aww! He matches this background colour I'm s...      0\n",
       "2  Hey man, I'm really not trying to edit war. It...      0\n",
       "3  \"\\nMore\\nI can't make any real suggestions on ...      0\n",
       "4  You, sir, are my hero. Any chance you remember...      0"
      ]
     },
     "execution_count": 5,
     "metadata": {},
     "output_type": "execute_result"
    }
   ],
   "source": [
    "df.head()"
   ]
  },
  {
   "cell_type": "code",
   "execution_count": 6,
   "id": "cf2a19cc",
   "metadata": {
    "scrolled": true
   },
   "outputs": [
    {
     "name": "stdout",
     "output_type": "stream",
     "text": [
      "\u001b[1m Распределение положительного класса \u001b[0m\n"
     ]
    },
    {
     "data": {
      "text/html": [
       "<div>\n",
       "<style scoped>\n",
       "    .dataframe tbody tr th:only-of-type {\n",
       "        vertical-align: middle;\n",
       "    }\n",
       "\n",
       "    .dataframe tbody tr th {\n",
       "        vertical-align: top;\n",
       "    }\n",
       "\n",
       "    .dataframe thead th {\n",
       "        text-align: right;\n",
       "    }\n",
       "</style>\n",
       "<table border=\"1\" class=\"dataframe\">\n",
       "  <thead>\n",
       "    <tr style=\"text-align: right;\">\n",
       "      <th></th>\n",
       "      <th>Кол-во</th>\n",
       "      <th>%</th>\n",
       "    </tr>\n",
       "  </thead>\n",
       "  <tbody>\n",
       "    <tr>\n",
       "      <th>0</th>\n",
       "      <td>143106</td>\n",
       "      <td>89.84</td>\n",
       "    </tr>\n",
       "    <tr>\n",
       "      <th>1</th>\n",
       "      <td>16186</td>\n",
       "      <td>10.16</td>\n",
       "    </tr>\n",
       "  </tbody>\n",
       "</table>\n",
       "</div>"
      ],
      "text/plain": [
       "   Кол-во      %\n",
       "0  143106  89.84\n",
       "1   16186  10.16"
      ]
     },
     "execution_count": 6,
     "metadata": {},
     "output_type": "execute_result"
    }
   ],
   "source": [
    "print('\\033[1m Распределение положительного класса \\033[0m')\n",
    "pd.concat([df['toxic'].value_counts().rename('Кол-во'), (df['toxic'].value_counts() / len(df) * 100).apply(lambda x: '{:.2f}'.format(x)).rename('%')], axis=1)"
   ]
  },
  {
   "cell_type": "markdown",
   "id": "64109a9f",
   "metadata": {},
   "source": [
    "Итак, имеем размеченный датасет с 159 571 комментариями. Пропусков нет. Положительный класс несбалансирован: датасет содержит всего 10% токсичных комментариев (*отметим, что положительный класс в нашем случае образован токсичными комметариями, для которых признак `toxic` равен 1*)."
   ]
  },
  {
   "cell_type": "markdown",
   "id": "ab2473c2",
   "metadata": {},
   "source": [
    "## Подготовка данных"
   ]
  },
  {
   "cell_type": "markdown",
   "id": "bb73eaaf",
   "metadata": {},
   "source": [
    "### Стоп-слова"
   ]
  },
  {
   "cell_type": "markdown",
   "id": "9c12b5fe",
   "metadata": {},
   "source": [
    "Сначала расширим список стоп-слов словами, которые несложно найти в корпусе после удаления стандартных стоп-слов из библиотеки nltk."
   ]
  },
  {
   "cell_type": "code",
   "execution_count": 7,
   "id": "babb031c",
   "metadata": {
    "scrolled": true
   },
   "outputs": [
    {
     "name": "stdout",
     "output_type": "stream",
     "text": [
      "[\"'s\", 'a', 'about', 'above', 'after', 'again', 'against', 'ain', 'all', 'am', 'an', 'and', 'any', 'are', 'aren', \"aren't\", 'arn', \"arn't\", 'as', 'at', 'be', 'because', 'been', 'before', 'being', 'below', 'between', 'both', 'but', 'by', 'can', \"can't\", 'couldn', \"couldn't\", 'd', 'did', 'didn', \"didn't\", 'do', 'does', 'doesn', \"doesn't\", 'doing', 'don', \"don't\", 'down', 'during', 'each', 'few', 'for', 'from', 'further', 'had', 'hadn', \"hadn't\", 'has', 'hasn', \"hasn't\", 'have', 'haven', \"haven't\", 'having', 'he', 'her', 'here', 'hers', 'herself', 'him', 'himself', 'his', 'how', 'i', \"i'd\", \"i'll\", \"i'm\", \"i've\", 'if', 'in', 'into', 'is', 'isn', \"isn't\", 'it', \"it's\", 'its', 'itself', 'just', 'll', 'm', 'ma', 'me', 'mightn', \"mightn't\", 'more', 'most', 'mustn', \"mustn't\", 'my', 'myself', 'needn', \"needn't\", 'no', 'nor', 'not', 'now', 'o', 'of', 'off', 'on', 'once', 'only', 'or', 'other', 'our', 'ours', 'ourselves', 'out', 'over', 'own', 're', 's', 'same', 'shan', \"shan't\", 'she', \"she's\", 'should', \"should've\", 'shouldn', \"shouldn't\", 'so', 'some', 'such', 't', 'than', 'that', \"that'll\", \"that's\", 'the', 'their', 'theirs', 'them', 'themselves', 'then', 'there', \"there's\", 'these', 'they', \"they're\", 'this', 'those', 'through', 'to', 'too', 'under', 'until', 'up', 've', 'very', 'was', 'wasn', \"wasn't\", 'we', 'were', 'weren', \"weren't\", 'what', 'when', 'where', 'which', 'while', 'who', 'whom', 'why', 'will', 'with', 'won', \"won't\", 'would', 'wouldn', \"wouldn't\", 'y', 'you', \"you'd\", \"you'll\", \"you're\", \"you've\", 'your', 'yours', 'yourself', 'yourselves']\n"
     ]
    }
   ],
   "source": [
    "stopwords.update([\"can't\", \"i'm\", \"that's\", \"'s\", \"i'd\", \"there's\", \"i've\", \"i'll\", \"don't\", \"they're\", \"arn't\", \"would\", \"won't\", \"that\", \"it\", \"no\", \"arn\"])\n",
    "print(sorted(stopwords))"
   ]
  },
  {
   "cell_type": "markdown",
   "id": "7b806596",
   "metadata": {},
   "source": [
    "### Очистка текста"
   ]
  },
  {
   "cell_type": "markdown",
   "id": "f5ea53a8",
   "metadata": {},
   "source": [
    "Очистим текст, выполнив следующие шаги:\n",
    "- переведём все тексты в нижний регистр\n",
    "- заменим вхождение 3-х и более одинаковых букв на одну соответствующую букву\n",
    "- удалим все символы кроме английских букв и апострофа\n",
    "- удалим стоп-слова\n",
    "- удалим все однобуквенные слова<br>\n",
    "\n",
    "Для этого определим соответствующую функцию **clear_text**. Результат запишем в новый столбец *`clear_text`*."
   ]
  },
  {
   "cell_type": "code",
   "execution_count": 8,
   "id": "cfa33494",
   "metadata": {},
   "outputs": [],
   "source": [
    "def clear_text(text):\n",
    "    text = re.sub(r'(\\w)\\1{2,}', r'\\1', text.lower())\n",
    "    text = ' '.join([word for word in re.sub(r\"[^a-z ']\", ' ', text).split()])\n",
    "    text = ' '.join([word for word in text.split() if word not in stopwords])\n",
    "    text = ' '.join([word for word in re.sub(r\"[^a-z ]\", ' ', text).split()])\n",
    "    text = ' '.join([word for word in re.sub(r\"\\b\\w{1}\\b\", ' ', text).split()])\n",
    "    return text"
   ]
  },
  {
   "cell_type": "code",
   "execution_count": 9,
   "id": "94e7bb14",
   "metadata": {},
   "outputs": [
    {
     "name": "stderr",
     "output_type": "stream",
     "text": [
      "100%|███████████████████████████████| 159292/159292 [00:13<00:00, 11632.40it/s]"
     ]
    },
    {
     "name": "stdout",
     "output_type": "stream",
     "text": [
      "\u001b[1m Комментарии после очистки \u001b[0m\n"
     ]
    },
    {
     "name": "stderr",
     "output_type": "stream",
     "text": [
      "\n"
     ]
    },
    {
     "data": {
      "text/html": [
       "<div>\n",
       "<style scoped>\n",
       "    .dataframe tbody tr th:only-of-type {\n",
       "        vertical-align: middle;\n",
       "    }\n",
       "\n",
       "    .dataframe tbody tr th {\n",
       "        vertical-align: top;\n",
       "    }\n",
       "\n",
       "    .dataframe thead th {\n",
       "        text-align: right;\n",
       "    }\n",
       "</style>\n",
       "<table border=\"1\" class=\"dataframe\">\n",
       "  <thead>\n",
       "    <tr style=\"text-align: right;\">\n",
       "      <th></th>\n",
       "      <th>text</th>\n",
       "      <th>toxic</th>\n",
       "      <th>clear_text</th>\n",
       "    </tr>\n",
       "  </thead>\n",
       "  <tbody>\n",
       "    <tr>\n",
       "      <th>0</th>\n",
       "      <td>Explanation\\nWhy the edits made under my usern...</td>\n",
       "      <td>0</td>\n",
       "      <td>explanation edits made username hardcore metal...</td>\n",
       "    </tr>\n",
       "    <tr>\n",
       "      <th>1</th>\n",
       "      <td>D'aww! He matches this background colour I'm s...</td>\n",
       "      <td>0</td>\n",
       "      <td>aww matches background colour seemingly stuck ...</td>\n",
       "    </tr>\n",
       "    <tr>\n",
       "      <th>2</th>\n",
       "      <td>Hey man, I'm really not trying to edit war. It...</td>\n",
       "      <td>0</td>\n",
       "      <td>hey man really trying edit war guy constantly ...</td>\n",
       "    </tr>\n",
       "    <tr>\n",
       "      <th>3</th>\n",
       "      <td>\"\\nMore\\nI can't make any real suggestions on ...</td>\n",
       "      <td>0</td>\n",
       "      <td>make real suggestions improvement wondered sec...</td>\n",
       "    </tr>\n",
       "    <tr>\n",
       "      <th>4</th>\n",
       "      <td>You, sir, are my hero. Any chance you remember...</td>\n",
       "      <td>0</td>\n",
       "      <td>sir hero chance remember page</td>\n",
       "    </tr>\n",
       "  </tbody>\n",
       "</table>\n",
       "</div>"
      ],
      "text/plain": [
       "                                                text  toxic  \\\n",
       "0  Explanation\\nWhy the edits made under my usern...      0   \n",
       "1  D'aww! He matches this background colour I'm s...      0   \n",
       "2  Hey man, I'm really not trying to edit war. It...      0   \n",
       "3  \"\\nMore\\nI can't make any real suggestions on ...      0   \n",
       "4  You, sir, are my hero. Any chance you remember...      0   \n",
       "\n",
       "                                          clear_text  \n",
       "0  explanation edits made username hardcore metal...  \n",
       "1  aww matches background colour seemingly stuck ...  \n",
       "2  hey man really trying edit war guy constantly ...  \n",
       "3  make real suggestions improvement wondered sec...  \n",
       "4                      sir hero chance remember page  "
      ]
     },
     "execution_count": 9,
     "metadata": {},
     "output_type": "execute_result"
    }
   ],
   "source": [
    "tqdm.pandas()\n",
    "df['clear_text'] = df['text'].progress_apply(clear_text)\n",
    "print('\\033[1m Комментарии после очистки \\033[0m')\n",
    "df.head()"
   ]
  },
  {
   "cell_type": "markdown",
   "id": "c737309d",
   "metadata": {},
   "source": [
    "### Лемматизация"
   ]
  },
  {
   "cell_type": "markdown",
   "id": "b13fe20d",
   "metadata": {},
   "source": [
    "Лемматизацию выполним с помощью библиотеки *`spacy`*. Результат сохраним в колонке *`lemm_text`*."
   ]
  },
  {
   "cell_type": "code",
   "execution_count": 10,
   "id": "53370176",
   "metadata": {},
   "outputs": [],
   "source": [
    "nlp = spacy.load('en_core_web_sm', disable=['parser', 'ner'])\n",
    "def spacy_lemmatize(text):\n",
    "    doc = nlp(text)\n",
    "    return \" \".join([token.lemma_ for token in doc])"
   ]
  },
  {
   "cell_type": "code",
   "execution_count": 11,
   "id": "4cba97f6",
   "metadata": {},
   "outputs": [
    {
     "name": "stderr",
     "output_type": "stream",
     "text": [
      "100%|█████████████████████████████████| 159292/159292 [14:59<00:00, 177.02it/s]"
     ]
    },
    {
     "name": "stdout",
     "output_type": "stream",
     "text": [
      "\u001b[1m Тексты после лемматизации \u001b[0m\n"
     ]
    },
    {
     "name": "stderr",
     "output_type": "stream",
     "text": [
      "\n"
     ]
    },
    {
     "data": {
      "text/html": [
       "<div>\n",
       "<style scoped>\n",
       "    .dataframe tbody tr th:only-of-type {\n",
       "        vertical-align: middle;\n",
       "    }\n",
       "\n",
       "    .dataframe tbody tr th {\n",
       "        vertical-align: top;\n",
       "    }\n",
       "\n",
       "    .dataframe thead th {\n",
       "        text-align: right;\n",
       "    }\n",
       "</style>\n",
       "<table border=\"1\" class=\"dataframe\">\n",
       "  <thead>\n",
       "    <tr style=\"text-align: right;\">\n",
       "      <th></th>\n",
       "      <th>text</th>\n",
       "      <th>toxic</th>\n",
       "      <th>clear_text</th>\n",
       "      <th>lemm_text</th>\n",
       "    </tr>\n",
       "  </thead>\n",
       "  <tbody>\n",
       "    <tr>\n",
       "      <th>0</th>\n",
       "      <td>Explanation\\nWhy the edits made under my usern...</td>\n",
       "      <td>0</td>\n",
       "      <td>explanation edits made username hardcore metal...</td>\n",
       "      <td>explanation edit make username hardcore metall...</td>\n",
       "    </tr>\n",
       "    <tr>\n",
       "      <th>1</th>\n",
       "      <td>D'aww! He matches this background colour I'm s...</td>\n",
       "      <td>0</td>\n",
       "      <td>aww matches background colour seemingly stuck ...</td>\n",
       "      <td>aww match background colour seemingly stick th...</td>\n",
       "    </tr>\n",
       "    <tr>\n",
       "      <th>2</th>\n",
       "      <td>Hey man, I'm really not trying to edit war. It...</td>\n",
       "      <td>0</td>\n",
       "      <td>hey man really trying edit war guy constantly ...</td>\n",
       "      <td>hey man really try edit war guy constantly rem...</td>\n",
       "    </tr>\n",
       "    <tr>\n",
       "      <th>3</th>\n",
       "      <td>\"\\nMore\\nI can't make any real suggestions on ...</td>\n",
       "      <td>0</td>\n",
       "      <td>make real suggestions improvement wondered sec...</td>\n",
       "      <td>make real suggestion improvement wonder sectio...</td>\n",
       "    </tr>\n",
       "    <tr>\n",
       "      <th>4</th>\n",
       "      <td>You, sir, are my hero. Any chance you remember...</td>\n",
       "      <td>0</td>\n",
       "      <td>sir hero chance remember page</td>\n",
       "      <td>sir hero chance remember page</td>\n",
       "    </tr>\n",
       "  </tbody>\n",
       "</table>\n",
       "</div>"
      ],
      "text/plain": [
       "                                                text  toxic  \\\n",
       "0  Explanation\\nWhy the edits made under my usern...      0   \n",
       "1  D'aww! He matches this background colour I'm s...      0   \n",
       "2  Hey man, I'm really not trying to edit war. It...      0   \n",
       "3  \"\\nMore\\nI can't make any real suggestions on ...      0   \n",
       "4  You, sir, are my hero. Any chance you remember...      0   \n",
       "\n",
       "                                          clear_text  \\\n",
       "0  explanation edits made username hardcore metal...   \n",
       "1  aww matches background colour seemingly stuck ...   \n",
       "2  hey man really trying edit war guy constantly ...   \n",
       "3  make real suggestions improvement wondered sec...   \n",
       "4                      sir hero chance remember page   \n",
       "\n",
       "                                           lemm_text  \n",
       "0  explanation edit make username hardcore metall...  \n",
       "1  aww match background colour seemingly stick th...  \n",
       "2  hey man really try edit war guy constantly rem...  \n",
       "3  make real suggestion improvement wonder sectio...  \n",
       "4                      sir hero chance remember page  "
      ]
     },
     "execution_count": 11,
     "metadata": {},
     "output_type": "execute_result"
    }
   ],
   "source": [
    "df['lemm_text'] = df['clear_text'].progress_apply(spacy_lemmatize)\n",
    "print('\\033[1m Тексты после лемматизации \\033[0m')\n",
    "df.head()"
   ]
  },
  {
   "cell_type": "markdown",
   "id": "2c6b5ab0",
   "metadata": {},
   "source": [
    "### Разбиение выборки на обучающую, валидационную и тестовую"
   ]
  },
  {
   "cell_type": "markdown",
   "id": "f0cebc15",
   "metadata": {},
   "source": [
    "Разобьем датасет на обучающую и тестовую выборки в соотношении 4:1. Поскольку подбор гиперпараметров моделей будем осуществлять с помощью функции GridSearch и, соответственно, с использованием кросс-валидации - валидационную выборку выделять не будем."
   ]
  },
  {
   "cell_type": "code",
   "execution_count": 12,
   "id": "31805f3f",
   "metadata": {},
   "outputs": [
    {
     "name": "stdout",
     "output_type": "stream",
     "text": [
      "Размер обучающей выборки: 127433\n",
      "Размер тестовой выборки: 31859\n"
     ]
    }
   ],
   "source": [
    "df_train, df_test = train_test_split(df, test_size=0.2, random_state=RANDOM_STATE)\n",
    "print(f'Размер обучающей выборки: {df_train.shape[0]}')\n",
    "print(f'Размер тестовой выборки: {df_test.shape[0]}')"
   ]
  },
  {
   "cell_type": "markdown",
   "id": "6a7f3faf",
   "metadata": {},
   "source": [
    "Проверим соотношение классов в полученных выборках."
   ]
  },
  {
   "cell_type": "code",
   "execution_count": 13,
   "id": "96a06add",
   "metadata": {},
   "outputs": [
    {
     "name": "stdout",
     "output_type": "stream",
     "text": [
      "\u001b[1m Соотношение классов в выборках (%)\u001b[0m\n"
     ]
    },
    {
     "data": {
      "text/html": [
       "<div>\n",
       "<style scoped>\n",
       "    .dataframe tbody tr th:only-of-type {\n",
       "        vertical-align: middle;\n",
       "    }\n",
       "\n",
       "    .dataframe tbody tr th {\n",
       "        vertical-align: top;\n",
       "    }\n",
       "\n",
       "    .dataframe thead th {\n",
       "        text-align: right;\n",
       "    }\n",
       "</style>\n",
       "<table border=\"1\" class=\"dataframe\">\n",
       "  <thead>\n",
       "    <tr style=\"text-align: right;\">\n",
       "      <th></th>\n",
       "      <th>train</th>\n",
       "      <th>test</th>\n",
       "    </tr>\n",
       "  </thead>\n",
       "  <tbody>\n",
       "    <tr>\n",
       "      <th>0</th>\n",
       "      <td>89.797776</td>\n",
       "      <td>90.002825</td>\n",
       "    </tr>\n",
       "    <tr>\n",
       "      <th>1</th>\n",
       "      <td>10.202224</td>\n",
       "      <td>9.997175</td>\n",
       "    </tr>\n",
       "  </tbody>\n",
       "</table>\n",
       "</div>"
      ],
      "text/plain": [
       "       train       test\n",
       "0  89.797776  90.002825\n",
       "1  10.202224   9.997175"
      ]
     },
     "execution_count": 13,
     "metadata": {},
     "output_type": "execute_result"
    }
   ],
   "source": [
    "print('\\033[1m Соотношение классов в выборках (%)\\033[0m')\n",
    "pd.concat([(df_train['toxic'].value_counts() / len(df_train) * 100).rename('train'), (df_test['toxic'].value_counts() / len(df_test) * 100).rename('test')], axis=1)"
   ]
  },
  {
   "cell_type": "markdown",
   "id": "1ce0ffda",
   "metadata": {},
   "source": [
    "Всё ок, баланс сохранился на уровне всего датасета.\n",
    "<br>Теперь подготовим соответствующие корпусы текстов."
   ]
  },
  {
   "cell_type": "code",
   "execution_count": 14,
   "id": "76816c20",
   "metadata": {},
   "outputs": [],
   "source": [
    "corpus_train = df_train['lemm_text'].values\n",
    "corpus_test = df_test['lemm_text'].values"
   ]
  },
  {
   "cell_type": "markdown",
   "id": "baf50f10",
   "metadata": {},
   "source": [
    "### Векторизация"
   ]
  },
  {
   "cell_type": "markdown",
   "id": "a23c76ba",
   "metadata": {},
   "source": [
    "Векторизацию выполним двумя простейшими способами: bow и tf_idf."
   ]
  },
  {
   "cell_type": "markdown",
   "id": "6998082f",
   "metadata": {},
   "source": [
    "#### Мешок слов (BOW)"
   ]
  },
  {
   "cell_type": "code",
   "execution_count": 15,
   "id": "0301c1ea",
   "metadata": {},
   "outputs": [
    {
     "name": "stdout",
     "output_type": "stream",
     "text": [
      "Размер обучающей матрицы: (127433, 134065)\n"
     ]
    }
   ],
   "source": [
    "count_vect = CountVectorizer(stop_words=stopwords) \n",
    "count_vect.fit(corpus_train) \n",
    "bow_train = count_vect.transform(corpus_train)\n",
    "bow_test = count_vect.transform(corpus_test)\n",
    "print(\"Размер обучающей матрицы:\", bow_train.shape)"
   ]
  },
  {
   "cell_type": "markdown",
   "id": "accbf15f",
   "metadata": {},
   "source": [
    "#### TF-IDF"
   ]
  },
  {
   "cell_type": "code",
   "execution_count": 16,
   "id": "4608aa35",
   "metadata": {
    "scrolled": true
   },
   "outputs": [
    {
     "name": "stdout",
     "output_type": "stream",
     "text": [
      "Размер обучающей матрицы: (127433, 134065)\n"
     ]
    }
   ],
   "source": [
    "count_tf_idf = TfidfVectorizer(stop_words=stopwords) \n",
    "count_tf_idf.fit(corpus_train) \n",
    "tf_idf_train = count_tf_idf.transform(corpus_train) \n",
    "tf_idf_test = count_tf_idf.transform(corpus_test) \n",
    "print(\"Размер обучающей матрицы:\", tf_idf_train.shape)"
   ]
  },
  {
   "cell_type": "markdown",
   "id": "12358884",
   "metadata": {},
   "source": [
    "## Обучение"
   ]
  },
  {
   "cell_type": "markdown",
   "id": "8438e801",
   "metadata": {},
   "source": [
    "Рассмотрим несколько простых моделей: логистическую регрессию, метод опорных векторов с линейным ядром и случайный лес. Подбор гиперпараметров моделей произведем с помощью GridSearch. В качестве метрики используем F1. Обучение проводим на двух обучающих матрицах (bow, tf-idf)."
   ]
  },
  {
   "cell_type": "code",
   "execution_count": 17,
   "id": "135c7fa8",
   "metadata": {},
   "outputs": [],
   "source": [
    "classifiers = [LinearSVC(), LogisticRegression(), RandomForestClassifier()]\n",
    "\n",
    "param_grid = {     \n",
    "    'LinearSVC': {\n",
    "        'random_state': [RANDOM_STATE], \n",
    "        'class_weight': ['balanced'],\n",
    "        'dual': [False],\n",
    "        'C': [0.06]},     \n",
    "    'LogisticRegression': {\n",
    "        'random_state': [RANDOM_STATE], \n",
    "        'solver': ['lbfgs'],\n",
    "        'C': [1.1],     \n",
    "        'class_weight': ['balanced']},\n",
    "    'RandomForestClassifier': {\n",
    "        'random_state': [RANDOM_STATE],      \n",
    "        'max_features': [100],\n",
    "        'criterion': [\"gini\"], \n",
    "        'class_weight': ['balanced'],\n",
    "        'n_estimators': [101],\n",
    "        'max_depth': [1]}\n",
    "}"
   ]
  },
  {
   "cell_type": "code",
   "execution_count": 18,
   "id": "6cda884f",
   "metadata": {},
   "outputs": [
    {
     "name": "stdout",
     "output_type": "stream",
     "text": [
      "Wall time: 6min 19s\n"
     ]
    }
   ],
   "source": [
    "%%time\n",
    "best_estimators, best_scors, best_params = {}, {}, {}\n",
    "for clf in classifiers:\n",
    "    best_est, best_sc, best_par = [], [], []\n",
    "    for i, vect_type in enumerate(['bow', 'tf-idf']):\n",
    "        train = bow_train if i == 0 else tf_idf_train\n",
    "        param = param_grid[type(classifiers[0]).__name__]\n",
    "        grid = GridSearchCV(clf, param_grid[type(clf).__name__], cv=3, scoring='f1', verbose=0) \n",
    "        grid.fit(train, df_train['toxic'])  \n",
    "        best_est.append(grid.best_estimator_)\n",
    "        best_sc.append(grid.best_score_)\n",
    "        best_par.append(grid.best_params_)\n",
    "    best_estimators[type(clf).__name__] = best_est\n",
    "    best_scors[type(clf).__name__] = best_sc\n",
    "    best_params[type(clf).__name__] = best_par\n",
    "clear_output()"
   ]
  },
  {
   "cell_type": "markdown",
   "id": "4cd56017",
   "metadata": {},
   "source": [
    "Сравним полученные результаты."
   ]
  },
  {
   "cell_type": "code",
   "execution_count": 19,
   "id": "90c17119",
   "metadata": {},
   "outputs": [
    {
     "name": "stdout",
     "output_type": "stream",
     "text": [
      "\u001b[1m Таблица результатов, показанных моделями \u001b[0m\n"
     ]
    },
    {
     "data": {
      "text/html": [
       "<div>\n",
       "<style scoped>\n",
       "    .dataframe tbody tr th:only-of-type {\n",
       "        vertical-align: middle;\n",
       "    }\n",
       "\n",
       "    .dataframe tbody tr th {\n",
       "        vertical-align: top;\n",
       "    }\n",
       "\n",
       "    .dataframe thead th {\n",
       "        text-align: right;\n",
       "    }\n",
       "</style>\n",
       "<table border=\"1\" class=\"dataframe\">\n",
       "  <thead>\n",
       "    <tr style=\"text-align: right;\">\n",
       "      <th></th>\n",
       "      <th>bow</th>\n",
       "      <th>tf-idf</th>\n",
       "    </tr>\n",
       "  </thead>\n",
       "  <tbody>\n",
       "    <tr>\n",
       "      <th>LinearSVC</th>\n",
       "      <td>0.757703</td>\n",
       "      <td>0.749730</td>\n",
       "    </tr>\n",
       "    <tr>\n",
       "      <th>LogisticRegression</th>\n",
       "      <td>0.759323</td>\n",
       "      <td>0.752038</td>\n",
       "    </tr>\n",
       "    <tr>\n",
       "      <th>RandomForestClassifier</th>\n",
       "      <td>0.247650</td>\n",
       "      <td>0.247323</td>\n",
       "    </tr>\n",
       "  </tbody>\n",
       "</table>\n",
       "</div>"
      ],
      "text/plain": [
       "                             bow    tf-idf\n",
       "LinearSVC               0.757703  0.749730\n",
       "LogisticRegression      0.759323  0.752038\n",
       "RandomForestClassifier  0.247650  0.247323"
      ]
     },
     "execution_count": 19,
     "metadata": {},
     "output_type": "execute_result"
    }
   ],
   "source": [
    "print('\\033[1m Таблица результатов, показанных моделями \\033[0m')\n",
    "pd.DataFrame(best_scors, index=['bow', 'tf-idf']).T"
   ]
  },
  {
   "cell_type": "markdown",
   "id": "1e5a7f3b",
   "metadata": {},
   "source": [
    "Лучший результат у логистической регрессии на мешке слов."
   ]
  },
  {
   "cell_type": "markdown",
   "id": "4ad8141e",
   "metadata": {},
   "source": [
    "## Тестирование"
   ]
  },
  {
   "cell_type": "markdown",
   "id": "5105e7cd",
   "metadata": {},
   "source": [
    "Поскольку лучшие результаты показала модель логистической регрессии на мешке слов, тестировать будем именно её."
   ]
  },
  {
   "cell_type": "code",
   "execution_count": 20,
   "id": "9028fb7d",
   "metadata": {
    "scrolled": true
   },
   "outputs": [
    {
     "name": "stdout",
     "output_type": "stream",
     "text": [
      "F1 на тестовой выборке: 0.7627215551743854\n"
     ]
    }
   ],
   "source": [
    "predicted_test = best_estimators['LogisticRegression'][0].predict(bow_test)\n",
    "print(\"F1 на тестовой выборке:\", f1_score(df_test['toxic'], predicted_test))"
   ]
  },
  {
   "cell_type": "markdown",
   "id": "f89b143e",
   "metadata": {},
   "source": [
    "Тестирование модели на тестовой выборке показало удовлетворительный результат, соответствующий заданным начальным условиям (F1 не менее 0.75). Посмотрим также на значения полноты и точности."
   ]
  },
  {
   "cell_type": "code",
   "execution_count": 21,
   "id": "d81e5ec1",
   "metadata": {},
   "outputs": [
    {
     "name": "stdout",
     "output_type": "stream",
     "text": [
      "Значение Recall (полнота): 0.8376766091051805\n",
      "Значение Precision (точность): 0.7000787194961953\n"
     ]
    }
   ],
   "source": [
    "print('Значение Recall (полнота): {}'.format(recall_score(df_test['toxic'], predicted_test)))\n",
    "print('Значение Precision (точность): {}'.format(precision_score(df_test['toxic'], predicted_test)))"
   ]
  },
  {
   "cell_type": "markdown",
   "id": "c3b71210",
   "metadata": {},
   "source": [
    "## Выводы"
   ]
  },
  {
   "cell_type": "markdown",
   "id": "186a6c6a",
   "metadata": {},
   "source": [
    "Целью проекта являлась разработка прототипа модели для бинарной классификации пользовательских комментариев на токсичные и нетоксичные. \\\n",
    "\n",
    "Размеченный датасет состоит из примерно 160 тысяч комментариев. В распределении целевого признака (токсичность текста) присутствует дисбаланс: положительный класс составляет всего 10% от размера выборки. Отдельно предобработка данных с целью уменьшения дисбаланса не проводилась, использовались штатные возможности моделей для учета этого фактора. \\\n",
    "\n",
    "Были выполнены следующие этапы обработки исходных текстов.\n",
    "- Очистка текста от зашумляющих слов и символов. \n",
    "- Лемматизация оставшихся слов.\n",
    "- Векторизация с использованием мешка слов bow и tf-idf.<br>\n",
    "\n",
    "Подготовленный таким образом датасет был разбит на обучающую и тестовую выборки в соотношении 4:1. Подбор гиперпараметров выполнялся поиском по сетке, количество подвыборок для кросс-валидации принималось равным 3.\n",
    "\n",
    "Наилучший результат $F_1 = 0.759$ показала модель логистической регрессии на мешке слов. Проверка на тестовой выборке доказала состоятельность данной модели, дав значение метрики $F_1 = 0.763$.<br>\n",
    "\n",
    "Очевидно, что результат можно улучшить, проведя, например, более тщательную очистку текстов, или используя более совершенные модели для векторизации текстов и более мощные модели для обучения."
   ]
  }
 ],
 "metadata": {
  "ExecuteTimeLog": [
   {
    "duration": 1414,
    "start_time": "2022-08-07T14:28:42.933Z"
   },
   {
    "duration": 1195,
    "start_time": "2022-08-07T14:28:44.349Z"
   },
   {
    "duration": 143,
    "start_time": "2022-08-07T14:28:45.545Z"
   },
   {
    "duration": 2283,
    "start_time": "2022-08-07T14:29:04.281Z"
   },
   {
    "duration": 788,
    "start_time": "2022-08-07T14:29:10.680Z"
   },
   {
    "duration": 8,
    "start_time": "2022-08-07T14:29:14.446Z"
   },
   {
    "duration": 6,
    "start_time": "2022-08-07T14:29:51.333Z"
   },
   {
    "duration": 6,
    "start_time": "2022-08-07T14:32:33.307Z"
   },
   {
    "duration": 9,
    "start_time": "2022-08-07T14:34:58.338Z"
   },
   {
    "duration": 10,
    "start_time": "2022-08-07T14:35:05.706Z"
   },
   {
    "duration": 13,
    "start_time": "2022-08-07T14:36:22.542Z"
   },
   {
    "duration": 14,
    "start_time": "2022-08-07T14:37:56.232Z"
   },
   {
    "duration": 3,
    "start_time": "2022-08-07T14:43:31.566Z"
   },
   {
    "duration": 6,
    "start_time": "2022-08-07T14:48:14.945Z"
   },
   {
    "duration": 7,
    "start_time": "2022-08-07T14:49:16.381Z"
   },
   {
    "duration": 7,
    "start_time": "2022-08-07T14:52:02.016Z"
   },
   {
    "duration": 50,
    "start_time": "2022-08-07T14:52:55.833Z"
   },
   {
    "duration": 4,
    "start_time": "2022-08-07T14:52:58.783Z"
   },
   {
    "duration": 8,
    "start_time": "2022-08-07T14:58:13.260Z"
   },
   {
    "duration": 6,
    "start_time": "2022-08-07T15:04:10.111Z"
   },
   {
    "duration": 4,
    "start_time": "2022-08-07T15:04:13.779Z"
   },
   {
    "duration": 9849,
    "start_time": "2022-08-07T15:04:31.442Z"
   },
   {
    "duration": 9545,
    "start_time": "2022-08-07T15:06:56.632Z"
   },
   {
    "duration": 61,
    "start_time": "2022-08-07T15:07:42.494Z"
   },
   {
    "duration": 10177,
    "start_time": "2022-08-07T15:08:00.821Z"
   },
   {
    "duration": 5,
    "start_time": "2022-08-07T15:13:12.052Z"
   },
   {
    "duration": 3,
    "start_time": "2022-08-07T15:13:54.800Z"
   },
   {
    "duration": 352457,
    "start_time": "2022-08-07T15:14:19.668Z"
   },
   {
    "duration": 13,
    "start_time": "2022-08-07T15:24:54.493Z"
   },
   {
    "duration": 107,
    "start_time": "2022-08-07T15:25:01.742Z"
   },
   {
    "duration": 1953,
    "start_time": "2022-08-07T15:25:03.805Z"
   },
   {
    "duration": 9909,
    "start_time": "2022-08-07T15:25:08.176Z"
   },
   {
    "duration": 247416,
    "start_time": "2022-08-07T15:26:21.379Z"
   },
   {
    "duration": 4,
    "start_time": "2022-08-07T15:30:28.798Z"
   },
   {
    "duration": 9818,
    "start_time": "2022-08-07T15:30:39.100Z"
   },
   {
    "duration": 11387,
    "start_time": "2022-08-07T15:40:45.649Z"
   },
   {
    "duration": 11946,
    "start_time": "2022-08-07T15:42:05.917Z"
   },
   {
    "duration": 11242,
    "start_time": "2022-08-07T15:44:12.718Z"
   },
   {
    "duration": 2,
    "start_time": "2022-08-07T15:46:43.890Z"
   },
   {
    "duration": 3,
    "start_time": "2022-08-07T15:46:49.303Z"
   },
   {
    "duration": 233067,
    "start_time": "2022-08-07T15:47:20.533Z"
   },
   {
    "duration": 43039,
    "start_time": "2022-08-07T15:53:32.358Z"
   },
   {
    "duration": 3,
    "start_time": "2022-08-07T15:59:03.839Z"
   },
   {
    "duration": 242509,
    "start_time": "2022-08-07T15:59:10.082Z"
   },
   {
    "duration": 226,
    "start_time": "2022-08-07T16:13:56.234Z"
   },
   {
    "duration": 2140,
    "start_time": "2022-08-07T16:14:26.491Z"
   },
   {
    "duration": 17233,
    "start_time": "2022-08-07T16:15:11.651Z"
   },
   {
    "duration": 96326,
    "start_time": "2022-08-07T16:15:55.052Z"
   },
   {
    "duration": 174269,
    "start_time": "2022-08-07T16:20:07.654Z"
   },
   {
    "duration": 50,
    "start_time": "2022-08-07T16:32:52.968Z"
   },
   {
    "duration": 5,
    "start_time": "2022-08-07T16:33:17.736Z"
   },
   {
    "duration": 1511,
    "start_time": "2022-08-07T16:34:29.168Z"
   },
   {
    "duration": 486,
    "start_time": "2022-08-07T16:34:30.681Z"
   },
   {
    "duration": 2254,
    "start_time": "2022-08-07T16:34:31.169Z"
   },
   {
    "duration": 8,
    "start_time": "2022-08-07T16:34:33.424Z"
   },
   {
    "duration": 18,
    "start_time": "2022-08-07T16:34:33.434Z"
   },
   {
    "duration": 3,
    "start_time": "2022-08-07T16:34:33.453Z"
   },
   {
    "duration": 7,
    "start_time": "2022-08-07T16:34:33.458Z"
   },
   {
    "duration": 9770,
    "start_time": "2022-08-07T16:34:33.466Z"
   },
   {
    "duration": 3,
    "start_time": "2022-08-07T16:34:43.238Z"
   },
   {
    "duration": 340721,
    "start_time": "2022-08-07T16:34:43.242Z"
   },
   {
    "duration": 92,
    "start_time": "2022-08-07T16:40:41.186Z"
   },
   {
    "duration": 1493,
    "start_time": "2022-08-07T16:41:22.832Z"
   },
   {
    "duration": 403,
    "start_time": "2022-08-07T16:41:24.328Z"
   },
   {
    "duration": 2319,
    "start_time": "2022-08-07T16:41:24.732Z"
   },
   {
    "duration": 8,
    "start_time": "2022-08-07T16:41:27.053Z"
   },
   {
    "duration": 17,
    "start_time": "2022-08-07T16:41:27.063Z"
   },
   {
    "duration": 4,
    "start_time": "2022-08-07T16:41:27.082Z"
   },
   {
    "duration": 5,
    "start_time": "2022-08-07T16:41:27.088Z"
   },
   {
    "duration": 10382,
    "start_time": "2022-08-07T16:41:27.095Z"
   },
   {
    "duration": 4,
    "start_time": "2022-08-07T16:41:37.487Z"
   },
   {
    "duration": 342601,
    "start_time": "2022-08-07T16:41:37.494Z"
   },
   {
    "duration": 101,
    "start_time": "2022-08-07T16:47:20.097Z"
   },
   {
    "duration": 69,
    "start_time": "2022-08-07T16:47:23.146Z"
   },
   {
    "duration": 121,
    "start_time": "2022-08-07T16:47:26.727Z"
   },
   {
    "duration": 82,
    "start_time": "2022-08-07T16:47:37.625Z"
   },
   {
    "duration": 38,
    "start_time": "2022-08-07T16:47:54.566Z"
   },
   {
    "duration": 66,
    "start_time": "2022-08-07T16:48:07.963Z"
   },
   {
    "duration": 115,
    "start_time": "2022-08-07T16:48:17.473Z"
   },
   {
    "duration": 58,
    "start_time": "2022-08-07T16:48:26.338Z"
   },
   {
    "duration": 1631,
    "start_time": "2022-08-07T16:48:39.150Z"
   },
   {
    "duration": 8299,
    "start_time": "2022-08-07T16:48:45.154Z"
   },
   {
    "duration": 3,
    "start_time": "2022-08-07T16:49:02.647Z"
   },
   {
    "duration": 81,
    "start_time": "2022-08-07T16:49:05.115Z"
   },
   {
    "duration": 149713,
    "start_time": "2022-08-07T16:49:30.389Z"
   },
   {
    "duration": 1540,
    "start_time": "2022-08-07T16:53:43.550Z"
   },
   {
    "duration": 482,
    "start_time": "2022-08-07T16:53:45.092Z"
   },
   {
    "duration": 2334,
    "start_time": "2022-08-07T16:53:45.575Z"
   },
   {
    "duration": 8,
    "start_time": "2022-08-07T16:53:47.911Z"
   },
   {
    "duration": 13,
    "start_time": "2022-08-07T16:53:47.921Z"
   },
   {
    "duration": 3,
    "start_time": "2022-08-07T16:53:47.935Z"
   },
   {
    "duration": 7,
    "start_time": "2022-08-07T16:53:47.939Z"
   },
   {
    "duration": 9770,
    "start_time": "2022-08-07T16:53:47.947Z"
   },
   {
    "duration": 4,
    "start_time": "2022-08-07T16:53:57.718Z"
   },
   {
    "duration": 348990,
    "start_time": "2022-08-07T16:53:57.724Z"
   },
   {
    "duration": 104,
    "start_time": "2022-08-07T16:59:46.716Z"
   },
   {
    "duration": 3,
    "start_time": "2022-08-07T16:59:46.821Z"
   },
   {
    "duration": 78,
    "start_time": "2022-08-07T17:00:44.722Z"
   },
   {
    "duration": 2,
    "start_time": "2022-08-07T17:00:48.408Z"
   },
   {
    "duration": 1925,
    "start_time": "2022-08-07T17:00:50.936Z"
   },
   {
    "duration": 10805,
    "start_time": "2022-08-07T17:00:58.915Z"
   },
   {
    "duration": 10940,
    "start_time": "2022-08-07T17:01:11.510Z"
   },
   {
    "duration": 3,
    "start_time": "2022-08-07T17:01:57.058Z"
   },
   {
    "duration": 240027,
    "start_time": "2022-08-07T17:02:02.075Z"
   },
   {
    "duration": 43177,
    "start_time": "2022-08-07T17:06:35.814Z"
   },
   {
    "duration": 19483,
    "start_time": "2022-08-07T17:09:40.199Z"
   },
   {
    "duration": 13525,
    "start_time": "2022-08-07T17:11:28.389Z"
   },
   {
    "duration": 90004,
    "start_time": "2022-08-07T17:12:51.979Z"
   },
   {
    "duration": 212222,
    "start_time": "2022-08-07T17:15:17.311Z"
   },
   {
    "duration": 127,
    "start_time": "2022-08-07T17:23:07.709Z"
   },
   {
    "duration": 13,
    "start_time": "2022-08-07T17:24:45.044Z"
   },
   {
    "duration": 509708,
    "start_time": "2022-08-07T17:24:52.219Z"
   },
   {
    "duration": 4,
    "start_time": "2022-08-07T17:40:43.907Z"
   },
   {
    "duration": 244122,
    "start_time": "2022-08-07T17:53:14.869Z"
   },
   {
    "duration": 42383,
    "start_time": "2022-08-07T17:58:10.208Z"
   },
   {
    "duration": 8,
    "start_time": "2022-08-07T17:59:07.825Z"
   },
   {
    "duration": 7,
    "start_time": "2022-08-07T17:59:56.507Z"
   },
   {
    "duration": 11,
    "start_time": "2022-08-07T18:00:12.187Z"
   },
   {
    "duration": 8,
    "start_time": "2022-08-07T18:00:19.862Z"
   },
   {
    "duration": 8,
    "start_time": "2022-08-07T18:01:06.343Z"
   },
   {
    "duration": 10,
    "start_time": "2022-08-07T18:01:57.107Z"
   },
   {
    "duration": 18,
    "start_time": "2022-08-07T18:02:10.727Z"
   },
   {
    "duration": 9,
    "start_time": "2022-08-07T18:05:00.526Z"
   },
   {
    "duration": 22625,
    "start_time": "2022-08-07T18:05:17.559Z"
   },
   {
    "duration": 29876,
    "start_time": "2022-08-07T18:06:00.846Z"
   },
   {
    "duration": 13,
    "start_time": "2022-08-07T18:06:39.167Z"
   },
   {
    "duration": 7,
    "start_time": "2022-08-07T18:06:53.915Z"
   },
   {
    "duration": 3,
    "start_time": "2022-08-07T18:07:15.670Z"
   },
   {
    "duration": 75,
    "start_time": "2022-08-07T18:07:19.405Z"
   },
   {
    "duration": 15,
    "start_time": "2022-08-07T18:09:13.221Z"
   },
   {
    "duration": 8,
    "start_time": "2022-08-07T18:09:31.107Z"
   },
   {
    "duration": 8,
    "start_time": "2022-08-07T18:09:35.069Z"
   },
   {
    "duration": 2,
    "start_time": "2022-08-07T18:10:21.844Z"
   },
   {
    "duration": 508087,
    "start_time": "2022-08-07T18:13:49.131Z"
   },
   {
    "duration": 255244,
    "start_time": "2022-08-07T18:24:33.754Z"
   },
   {
    "duration": 45879,
    "start_time": "2022-08-07T18:30:00.109Z"
   },
   {
    "duration": 4,
    "start_time": "2022-08-07T18:31:16.190Z"
   },
   {
    "duration": 22245,
    "start_time": "2022-08-07T18:31:20.291Z"
   },
   {
    "duration": 28589,
    "start_time": "2022-08-07T18:36:33.220Z"
   },
   {
    "duration": 4,
    "start_time": "2022-08-07T18:37:04.889Z"
   },
   {
    "duration": 769,
    "start_time": "2022-08-07T18:37:10.543Z"
   },
   {
    "duration": 644,
    "start_time": "2022-08-07T18:37:24.051Z"
   },
   {
    "duration": 5,
    "start_time": "2022-08-07T18:37:27.075Z"
   },
   {
    "duration": 7,
    "start_time": "2022-08-07T18:37:42.399Z"
   },
   {
    "duration": 8,
    "start_time": "2022-08-07T18:40:23.887Z"
   },
   {
    "duration": 7,
    "start_time": "2022-08-07T18:41:10.724Z"
   },
   {
    "duration": 247785,
    "start_time": "2022-08-07T18:44:42.312Z"
   },
   {
    "duration": 221433,
    "start_time": "2022-08-07T18:49:34.856Z"
   },
   {
    "duration": 1595,
    "start_time": "2022-08-07T19:26:25.201Z"
   },
   {
    "duration": 245,
    "start_time": "2022-08-07T19:26:26.798Z"
   },
   {
    "duration": 820,
    "start_time": "2022-08-07T19:26:27.044Z"
   },
   {
    "duration": 8,
    "start_time": "2022-08-07T19:26:27.866Z"
   },
   {
    "duration": 22,
    "start_time": "2022-08-07T19:26:27.875Z"
   },
   {
    "duration": 3,
    "start_time": "2022-08-07T19:26:27.899Z"
   },
   {
    "duration": 9,
    "start_time": "2022-08-07T19:26:27.903Z"
   },
   {
    "duration": 10185,
    "start_time": "2022-08-07T19:26:27.913Z"
   },
   {
    "duration": 4,
    "start_time": "2022-08-07T19:26:38.099Z"
   },
   {
    "duration": 344762,
    "start_time": "2022-08-07T19:26:38.105Z"
   },
   {
    "duration": 122,
    "start_time": "2022-08-07T19:32:22.869Z"
   },
   {
    "duration": 3,
    "start_time": "2022-08-07T19:32:22.992Z"
   },
   {
    "duration": 2116,
    "start_time": "2022-08-07T19:32:22.997Z"
   },
   {
    "duration": 10788,
    "start_time": "2022-08-07T19:32:25.114Z"
   },
   {
    "duration": 11081,
    "start_time": "2022-08-07T19:32:35.904Z"
   },
   {
    "duration": 231012,
    "start_time": "2022-08-07T19:32:46.986Z"
   },
   {
    "duration": 44194,
    "start_time": "2022-08-07T19:36:38.000Z"
   },
   {
    "duration": 4,
    "start_time": "2022-08-07T19:37:22.196Z"
   },
   {
    "duration": 22086,
    "start_time": "2022-08-07T19:37:22.202Z"
   },
   {
    "duration": 28867,
    "start_time": "2022-08-07T19:37:44.290Z"
   },
   {
    "duration": 5,
    "start_time": "2022-08-07T19:38:13.159Z"
   },
   {
    "duration": 806,
    "start_time": "2022-08-07T19:38:13.165Z"
   },
   {
    "duration": 721,
    "start_time": "2022-08-07T19:38:13.973Z"
   },
   {
    "duration": 4,
    "start_time": "2022-08-07T19:38:14.696Z"
   },
   {
    "duration": 11,
    "start_time": "2022-08-07T19:38:14.701Z"
   },
   {
    "duration": 231974,
    "start_time": "2022-08-07T19:38:14.714Z"
   },
   {
    "duration": 1930,
    "start_time": "2022-08-08T10:24:37.110Z"
   },
   {
    "duration": 1371,
    "start_time": "2022-08-08T10:24:39.042Z"
   },
   {
    "duration": 2311,
    "start_time": "2022-08-08T10:24:40.415Z"
   },
   {
    "duration": 9,
    "start_time": "2022-08-08T10:24:42.728Z"
   },
   {
    "duration": 20,
    "start_time": "2022-08-08T10:24:42.739Z"
   },
   {
    "duration": 4,
    "start_time": "2022-08-08T10:24:42.760Z"
   },
   {
    "duration": 8,
    "start_time": "2022-08-08T10:24:42.766Z"
   },
   {
    "duration": 10252,
    "start_time": "2022-08-08T10:24:42.775Z"
   },
   {
    "duration": 5,
    "start_time": "2022-08-08T10:24:53.029Z"
   },
   {
    "duration": 351815,
    "start_time": "2022-08-08T10:24:53.035Z"
   },
   {
    "duration": 106,
    "start_time": "2022-08-08T10:30:44.852Z"
   },
   {
    "duration": 3,
    "start_time": "2022-08-08T10:30:44.961Z"
   },
   {
    "duration": 1976,
    "start_time": "2022-08-08T10:30:44.965Z"
   },
   {
    "duration": 10842,
    "start_time": "2022-08-08T10:30:46.944Z"
   },
   {
    "duration": 11256,
    "start_time": "2022-08-08T10:30:57.788Z"
   },
   {
    "duration": 229551,
    "start_time": "2022-08-08T10:31:09.046Z"
   },
   {
    "duration": 42902,
    "start_time": "2022-08-08T10:34:58.599Z"
   },
   {
    "duration": 4,
    "start_time": "2022-08-08T10:35:41.587Z"
   },
   {
    "duration": 21926,
    "start_time": "2022-08-08T10:35:41.593Z"
   },
   {
    "duration": 29792,
    "start_time": "2022-08-08T10:36:03.521Z"
   },
   {
    "duration": 4,
    "start_time": "2022-08-08T10:36:33.315Z"
   },
   {
    "duration": 833,
    "start_time": "2022-08-08T10:36:33.321Z"
   },
   {
    "duration": 719,
    "start_time": "2022-08-08T10:36:34.156Z"
   },
   {
    "duration": 10,
    "start_time": "2022-08-08T10:36:34.877Z"
   },
   {
    "duration": 8,
    "start_time": "2022-08-08T10:36:34.888Z"
   },
   {
    "duration": 237797,
    "start_time": "2022-08-08T10:36:34.898Z"
   },
   {
    "duration": 81,
    "start_time": "2022-08-08T10:52:33.702Z"
   },
   {
    "duration": 7,
    "start_time": "2022-08-08T10:59:55.959Z"
   },
   {
    "duration": 127,
    "start_time": "2022-08-08T11:00:52.709Z"
   },
   {
    "duration": 4,
    "start_time": "2022-08-08T11:00:55.517Z"
   },
   {
    "duration": 4,
    "start_time": "2022-08-08T11:01:00.206Z"
   },
   {
    "duration": 17,
    "start_time": "2022-08-08T11:01:03.562Z"
   },
   {
    "duration": 7,
    "start_time": "2022-08-08T11:01:07.114Z"
   },
   {
    "duration": 15,
    "start_time": "2022-08-08T11:01:16.026Z"
   },
   {
    "duration": 3,
    "start_time": "2022-08-08T11:01:18.499Z"
   },
   {
    "duration": 4,
    "start_time": "2022-08-08T11:01:23.181Z"
   },
   {
    "duration": 11,
    "start_time": "2022-08-08T11:01:26.161Z"
   },
   {
    "duration": 11,
    "start_time": "2022-08-08T11:01:28.702Z"
   },
   {
    "duration": 10,
    "start_time": "2022-08-08T11:01:31.781Z"
   },
   {
    "duration": 5,
    "start_time": "2022-08-08T11:03:03.183Z"
   },
   {
    "duration": 13,
    "start_time": "2022-08-08T11:03:26.061Z"
   },
   {
    "duration": 12,
    "start_time": "2022-08-08T11:03:55.687Z"
   },
   {
    "duration": 12,
    "start_time": "2022-08-08T11:04:00.470Z"
   },
   {
    "duration": 6,
    "start_time": "2022-08-08T11:06:56.661Z"
   },
   {
    "duration": 4,
    "start_time": "2022-08-08T11:11:54.921Z"
   },
   {
    "duration": 6,
    "start_time": "2022-08-08T11:11:56.062Z"
   },
   {
    "duration": 3,
    "start_time": "2022-08-08T11:12:00.828Z"
   },
   {
    "duration": 28,
    "start_time": "2022-08-08T11:12:02.232Z"
   },
   {
    "duration": 3,
    "start_time": "2022-08-08T11:12:04.678Z"
   },
   {
    "duration": 6,
    "start_time": "2022-08-08T11:12:09.316Z"
   },
   {
    "duration": 6,
    "start_time": "2022-08-08T11:12:36.263Z"
   },
   {
    "duration": 4,
    "start_time": "2022-08-08T11:12:40.691Z"
   },
   {
    "duration": 4,
    "start_time": "2022-08-08T11:12:44.506Z"
   },
   {
    "duration": 3,
    "start_time": "2022-08-08T11:14:03.134Z"
   },
   {
    "duration": 4,
    "start_time": "2022-08-08T11:16:28.655Z"
   },
   {
    "duration": 5,
    "start_time": "2022-08-08T11:16:33.732Z"
   },
   {
    "duration": 6,
    "start_time": "2022-08-08T11:16:51.533Z"
   },
   {
    "duration": 7,
    "start_time": "2022-08-08T11:16:54.970Z"
   },
   {
    "duration": 9,
    "start_time": "2022-08-08T11:17:12.373Z"
   },
   {
    "duration": 4,
    "start_time": "2022-08-08T11:17:15.137Z"
   },
   {
    "duration": 4,
    "start_time": "2022-08-08T11:17:21.269Z"
   },
   {
    "duration": 4,
    "start_time": "2022-08-08T11:17:21.603Z"
   },
   {
    "duration": 4,
    "start_time": "2022-08-08T11:18:00.453Z"
   },
   {
    "duration": 5,
    "start_time": "2022-08-08T11:18:10.342Z"
   },
   {
    "duration": 4,
    "start_time": "2022-08-08T11:18:32.407Z"
   },
   {
    "duration": 5,
    "start_time": "2022-08-08T11:18:34.885Z"
   },
   {
    "duration": 10,
    "start_time": "2022-08-08T11:18:37.585Z"
   },
   {
    "duration": 4,
    "start_time": "2022-08-08T11:18:44.999Z"
   },
   {
    "duration": 5,
    "start_time": "2022-08-08T11:18:47.685Z"
   },
   {
    "duration": 5,
    "start_time": "2022-08-08T11:19:08.613Z"
   },
   {
    "duration": 7,
    "start_time": "2022-08-08T11:19:17.492Z"
   },
   {
    "duration": 6,
    "start_time": "2022-08-08T11:19:20.537Z"
   },
   {
    "duration": 7,
    "start_time": "2022-08-08T11:19:26.455Z"
   },
   {
    "duration": 6,
    "start_time": "2022-08-08T11:19:30.309Z"
   },
   {
    "duration": 8,
    "start_time": "2022-08-08T11:19:34.833Z"
   },
   {
    "duration": 4,
    "start_time": "2022-08-08T11:19:54.369Z"
   },
   {
    "duration": 4,
    "start_time": "2022-08-08T11:19:59.381Z"
   },
   {
    "duration": 5,
    "start_time": "2022-08-08T11:19:59.595Z"
   },
   {
    "duration": 1282,
    "start_time": "2022-08-08T13:26:30.317Z"
   },
   {
    "duration": 4,
    "start_time": "2022-08-08T13:26:49.674Z"
   },
   {
    "duration": 1824,
    "start_time": "2022-08-08T13:26:55.636Z"
   },
   {
    "duration": 2245,
    "start_time": "2022-08-08T13:27:12.330Z"
   },
   {
    "duration": 9,
    "start_time": "2022-08-08T13:27:18.168Z"
   },
   {
    "duration": 12,
    "start_time": "2022-08-08T13:27:22.664Z"
   },
   {
    "duration": 119,
    "start_time": "2022-08-08T13:48:59.471Z"
   },
   {
    "duration": 4,
    "start_time": "2022-08-08T13:49:03.679Z"
   },
   {
    "duration": 10,
    "start_time": "2022-08-08T13:49:34.464Z"
   },
   {
    "duration": 5,
    "start_time": "2022-08-08T13:49:50.569Z"
   },
   {
    "duration": 1471,
    "start_time": "2022-08-08T13:51:23.626Z"
   },
   {
    "duration": 18,
    "start_time": "2022-08-08T13:52:04.158Z"
   },
   {
    "duration": 4,
    "start_time": "2022-08-08T13:52:15.133Z"
   },
   {
    "duration": 7,
    "start_time": "2022-08-08T13:53:10.659Z"
   },
   {
    "duration": 8,
    "start_time": "2022-08-08T13:54:48.484Z"
   },
   {
    "duration": 11,
    "start_time": "2022-08-08T13:55:53.606Z"
   },
   {
    "duration": 9,
    "start_time": "2022-08-08T13:56:19.457Z"
   },
   {
    "duration": 13,
    "start_time": "2022-08-08T13:56:35.260Z"
   },
   {
    "duration": 9,
    "start_time": "2022-08-08T13:56:41.760Z"
   },
   {
    "duration": 7,
    "start_time": "2022-08-08T13:58:34.166Z"
   },
   {
    "duration": 8,
    "start_time": "2022-08-08T13:58:39.333Z"
   },
   {
    "duration": 8,
    "start_time": "2022-08-08T13:58:43.404Z"
   },
   {
    "duration": 7,
    "start_time": "2022-08-08T13:58:52.933Z"
   },
   {
    "duration": 7,
    "start_time": "2022-08-08T13:59:09.964Z"
   },
   {
    "duration": 7,
    "start_time": "2022-08-08T13:59:16.805Z"
   },
   {
    "duration": 8,
    "start_time": "2022-08-08T13:59:30.087Z"
   },
   {
    "duration": 7,
    "start_time": "2022-08-08T14:00:02.875Z"
   },
   {
    "duration": 7,
    "start_time": "2022-08-08T14:00:25.985Z"
   },
   {
    "duration": 7,
    "start_time": "2022-08-08T14:00:31.959Z"
   },
   {
    "duration": 9,
    "start_time": "2022-08-08T14:01:01.722Z"
   },
   {
    "duration": 8,
    "start_time": "2022-08-08T14:01:07.951Z"
   },
   {
    "duration": 6,
    "start_time": "2022-08-08T14:01:18.831Z"
   },
   {
    "duration": 9,
    "start_time": "2022-08-08T14:01:24.105Z"
   },
   {
    "duration": 3,
    "start_time": "2022-08-08T14:02:13.900Z"
   },
   {
    "duration": 55127,
    "start_time": "2022-08-08T14:06:33.359Z"
   },
   {
    "duration": 252,
    "start_time": "2022-08-08T14:09:41.553Z"
   },
   {
    "duration": 559,
    "start_time": "2022-08-08T14:10:59.835Z"
   },
   {
    "duration": 837,
    "start_time": "2022-08-08T14:11:41.169Z"
   },
   {
    "duration": 2,
    "start_time": "2022-08-08T14:13:40.973Z"
   },
   {
    "duration": 37290,
    "start_time": "2022-08-08T14:13:44.151Z"
   },
   {
    "duration": 421,
    "start_time": "2022-08-08T14:16:44.947Z"
   },
   {
    "duration": 38240,
    "start_time": "2022-08-08T14:17:24.449Z"
   },
   {
    "duration": 396,
    "start_time": "2022-08-08T14:19:06.164Z"
   },
   {
    "duration": 70,
    "start_time": "2022-08-08T14:19:18.023Z"
   },
   {
    "duration": 394,
    "start_time": "2022-08-08T14:19:24.733Z"
   },
   {
    "duration": 370,
    "start_time": "2022-08-08T14:19:57.292Z"
   },
   {
    "duration": 4,
    "start_time": "2022-08-08T14:20:48.498Z"
   },
   {
    "duration": 388,
    "start_time": "2022-08-08T14:23:13.565Z"
   },
   {
    "duration": 7,
    "start_time": "2022-08-08T14:23:43.518Z"
   },
   {
    "duration": 4,
    "start_time": "2022-08-08T14:23:47.170Z"
   },
   {
    "duration": 12,
    "start_time": "2022-08-08T14:24:07.226Z"
   },
   {
    "duration": 4,
    "start_time": "2022-08-08T14:25:28.767Z"
   },
   {
    "duration": 34425,
    "start_time": "2022-08-08T14:25:28.772Z"
   },
   {
    "duration": 719,
    "start_time": "2022-08-08T14:26:03.199Z"
   },
   {
    "duration": 7,
    "start_time": "2022-08-08T14:26:03.919Z"
   },
   {
    "duration": 11,
    "start_time": "2022-08-08T14:26:03.937Z"
   },
   {
    "duration": 3,
    "start_time": "2022-08-08T14:26:03.949Z"
   },
   {
    "duration": 10,
    "start_time": "2022-08-08T14:26:03.953Z"
   },
   {
    "duration": 9117,
    "start_time": "2022-08-08T14:26:03.965Z"
   },
   {
    "duration": 387,
    "start_time": "2022-08-08T14:26:13.083Z"
   },
   {
    "duration": 3,
    "start_time": "2022-08-08T14:26:13.471Z"
   },
   {
    "duration": 908890,
    "start_time": "2022-08-08T14:26:58.487Z"
   },
   {
    "duration": 537132,
    "start_time": "2022-08-08T14:46:15.581Z"
   },
   {
    "duration": 75,
    "start_time": "2022-08-08T14:59:08.394Z"
   },
   {
    "duration": 4,
    "start_time": "2022-08-08T14:59:26.693Z"
   },
   {
    "duration": 3,
    "start_time": "2022-08-08T15:07:28.425Z"
   },
   {
    "duration": 4,
    "start_time": "2022-08-08T15:09:47.956Z"
   },
   {
    "duration": 3,
    "start_time": "2022-08-08T15:13:08.407Z"
   },
   {
    "duration": 4,
    "start_time": "2022-08-08T15:18:23.661Z"
   },
   {
    "duration": 61,
    "start_time": "2022-08-08T15:18:35.307Z"
   },
   {
    "duration": 6218,
    "start_time": "2022-08-08T15:18:48.282Z"
   },
   {
    "duration": 6663,
    "start_time": "2022-08-08T15:18:57.353Z"
   },
   {
    "duration": 121650,
    "start_time": "2022-08-08T15:19:09.591Z"
   },
   {
    "duration": 162920,
    "start_time": "2022-08-08T15:28:47.926Z"
   },
   {
    "duration": 3,
    "start_time": "2022-08-08T15:32:57.477Z"
   },
   {
    "duration": 4,
    "start_time": "2022-08-08T15:33:05.953Z"
   },
   {
    "duration": 536536,
    "start_time": "2022-08-08T15:33:08.520Z"
   },
   {
    "duration": 4,
    "start_time": "2022-08-08T15:42:05.057Z"
   },
   {
    "duration": 1418923,
    "start_time": "2022-08-08T15:42:59.716Z"
   },
   {
    "duration": 3,
    "start_time": "2022-08-08T16:11:17.869Z"
   },
   {
    "duration": 1713750,
    "start_time": "2022-08-08T16:11:55.889Z"
   },
   {
    "duration": 7,
    "start_time": "2022-08-08T20:24:14.046Z"
   },
   {
    "duration": 4,
    "start_time": "2022-08-08T20:25:24.772Z"
   },
   {
    "duration": 106,
    "start_time": "2022-08-08T20:25:33.523Z"
   },
   {
    "duration": 74326,
    "start_time": "2022-08-08T20:25:53.441Z"
   },
   {
    "duration": 42991,
    "start_time": "2022-08-08T20:27:07.769Z"
   },
   {
    "duration": 3409,
    "start_time": "2022-08-08T20:27:50.762Z"
   },
   {
    "duration": 13,
    "start_time": "2022-08-08T20:27:54.172Z"
   },
   {
    "duration": 12,
    "start_time": "2022-08-08T20:27:54.186Z"
   },
   {
    "duration": 3,
    "start_time": "2022-08-08T20:27:54.199Z"
   },
   {
    "duration": 4,
    "start_time": "2022-08-08T20:27:54.204Z"
   },
   {
    "duration": 8702,
    "start_time": "2022-08-08T20:27:54.210Z"
   },
   {
    "duration": 478,
    "start_time": "2022-08-08T20:28:02.914Z"
   },
   {
    "duration": 3,
    "start_time": "2022-08-08T20:28:03.394Z"
   },
   {
    "duration": 570941,
    "start_time": "2022-08-08T20:28:03.398Z"
   },
   {
    "duration": 78,
    "start_time": "2022-08-08T20:37:34.340Z"
   },
   {
    "duration": 2,
    "start_time": "2022-08-08T20:37:34.420Z"
   },
   {
    "duration": 10,
    "start_time": "2022-08-08T20:37:34.424Z"
   },
   {
    "duration": 6458,
    "start_time": "2022-08-08T20:37:34.435Z"
   },
   {
    "duration": 6500,
    "start_time": "2022-08-08T20:37:40.895Z"
   },
   {
    "duration": 4,
    "start_time": "2022-08-08T20:37:47.397Z"
   },
   {
    "duration": 863400,
    "start_time": "2022-08-08T20:39:38.567Z"
   },
   {
    "duration": 984968,
    "start_time": "2022-08-08T20:57:49.002Z"
   },
   {
    "duration": 9,
    "start_time": "2022-08-09T10:24:12.128Z"
   },
   {
    "duration": 63049,
    "start_time": "2022-08-09T10:24:22.413Z"
   },
   {
    "duration": 35938,
    "start_time": "2022-08-09T10:25:25.464Z"
   },
   {
    "duration": 2091,
    "start_time": "2022-08-09T10:26:01.404Z"
   },
   {
    "duration": 14,
    "start_time": "2022-08-09T10:26:03.497Z"
   },
   {
    "duration": 25,
    "start_time": "2022-08-09T10:26:03.512Z"
   },
   {
    "duration": 4,
    "start_time": "2022-08-09T10:26:03.538Z"
   },
   {
    "duration": 39,
    "start_time": "2022-08-09T10:26:03.543Z"
   },
   {
    "duration": 9601,
    "start_time": "2022-08-09T10:26:03.584Z"
   },
   {
    "duration": 624,
    "start_time": "2022-08-09T10:26:13.186Z"
   },
   {
    "duration": 4,
    "start_time": "2022-08-09T10:26:13.813Z"
   },
   {
    "duration": 659091,
    "start_time": "2022-08-09T10:26:13.819Z"
   },
   {
    "duration": 96,
    "start_time": "2022-08-09T10:37:12.911Z"
   },
   {
    "duration": 2,
    "start_time": "2022-08-09T10:37:13.009Z"
   },
   {
    "duration": 9,
    "start_time": "2022-08-09T10:37:13.013Z"
   },
   {
    "duration": 7001,
    "start_time": "2022-08-09T10:37:13.024Z"
   },
   {
    "duration": 7106,
    "start_time": "2022-08-09T10:37:20.027Z"
   },
   {
    "duration": 4,
    "start_time": "2022-08-09T10:44:02.574Z"
   },
   {
    "duration": 34,
    "start_time": "2022-08-09T10:44:33.277Z"
   },
   {
    "duration": 478069,
    "start_time": "2022-08-09T10:44:47.989Z"
   },
   {
    "duration": 4,
    "start_time": "2022-08-09T10:53:50.610Z"
   },
   {
    "duration": 4,
    "start_time": "2022-08-09T10:54:07.671Z"
   },
   {
    "duration": 225803,
    "start_time": "2022-08-09T10:54:13.567Z"
   },
   {
    "duration": 102313,
    "start_time": "2022-08-09T10:58:20.247Z"
   },
   {
    "duration": 4,
    "start_time": "2022-08-09T11:14:24.655Z"
   },
   {
    "duration": 4,
    "start_time": "2022-08-09T11:15:34.486Z"
   },
   {
    "duration": 4,
    "start_time": "2022-08-09T11:15:42.257Z"
   },
   {
    "duration": 21383,
    "start_time": "2022-08-09T11:18:09.352Z"
   },
   {
    "duration": 4,
    "start_time": "2022-08-09T11:18:54.470Z"
   },
   {
    "duration": 29004,
    "start_time": "2022-08-09T11:19:02.962Z"
   },
   {
    "duration": 3,
    "start_time": "2022-08-09T11:35:30.152Z"
   },
   {
    "duration": 324,
    "start_time": "2022-08-09T11:35:39.224Z"
   },
   {
    "duration": 6,
    "start_time": "2022-08-09T11:37:51.497Z"
   },
   {
    "duration": 21,
    "start_time": "2022-08-09T11:38:02.474Z"
   },
   {
    "duration": 98595,
    "start_time": "2022-08-09T11:38:34.795Z"
   },
   {
    "duration": 77,
    "start_time": "2022-08-09T11:43:11.492Z"
   },
   {
    "duration": 98328,
    "start_time": "2022-08-09T11:43:16.241Z"
   },
   {
    "duration": 2066095,
    "start_time": "2022-08-09T11:53:00.456Z"
   },
   {
    "duration": 0,
    "start_time": "2022-08-09T13:47:54.134Z"
   },
   {
    "duration": 17,
    "start_time": "2022-08-09T13:57:38.802Z"
   },
   {
    "duration": 16,
    "start_time": "2022-08-09T13:57:41.312Z"
   },
   {
    "duration": 8,
    "start_time": "2022-08-09T13:57:44.571Z"
   },
   {
    "duration": 6,
    "start_time": "2022-08-09T13:58:08.412Z"
   },
   {
    "duration": 20782161,
    "start_time": "2022-08-09T13:58:30.904Z"
   },
   {
    "duration": 2,
    "start_time": "2022-08-09T19:56:26.827Z"
   },
   {
    "duration": 4087,
    "start_time": "2022-08-09T19:59:01.501Z"
   },
   {
    "duration": 4,
    "start_time": "2022-08-09T20:34:56.246Z"
   },
   {
    "duration": 4,
    "start_time": "2022-08-09T20:35:01.682Z"
   },
   {
    "duration": 3,
    "start_time": "2022-08-09T20:35:09.388Z"
   },
   {
    "duration": 49336,
    "start_time": "2022-08-09T20:41:18.744Z"
   },
   {
    "duration": 31470,
    "start_time": "2022-08-09T20:42:08.082Z"
   },
   {
    "duration": 2138,
    "start_time": "2022-08-09T20:42:39.554Z"
   },
   {
    "duration": 14,
    "start_time": "2022-08-09T20:42:41.694Z"
   },
   {
    "duration": 17,
    "start_time": "2022-08-09T20:42:41.709Z"
   },
   {
    "duration": 4,
    "start_time": "2022-08-09T20:42:41.727Z"
   },
   {
    "duration": 8,
    "start_time": "2022-08-09T20:42:41.732Z"
   },
   {
    "duration": 9516,
    "start_time": "2022-08-09T20:42:41.742Z"
   },
   {
    "duration": 598,
    "start_time": "2022-08-09T20:42:51.259Z"
   },
   {
    "duration": 4,
    "start_time": "2022-08-09T20:42:51.860Z"
   },
   {
    "duration": 638810,
    "start_time": "2022-08-09T20:42:51.865Z"
   },
   {
    "duration": 101,
    "start_time": "2022-08-09T20:53:30.676Z"
   },
   {
    "duration": 2,
    "start_time": "2022-08-09T20:53:30.779Z"
   },
   {
    "duration": 20,
    "start_time": "2022-08-09T20:53:30.783Z"
   },
   {
    "duration": 6848,
    "start_time": "2022-08-09T20:53:30.805Z"
   },
   {
    "duration": 6804,
    "start_time": "2022-08-09T20:53:37.656Z"
   },
   {
    "duration": 4,
    "start_time": "2022-08-09T20:53:44.462Z"
   },
   {
    "duration": 225294,
    "start_time": "2022-08-09T20:53:44.468Z"
   },
   {
    "duration": 97607,
    "start_time": "2022-08-09T20:57:29.764Z"
   },
   {
    "duration": 5,
    "start_time": "2022-08-09T20:59:07.373Z"
   },
   {
    "duration": 17,
    "start_time": "2022-08-09T20:59:07.380Z"
   },
   {
    "duration": 21017,
    "start_time": "2022-08-09T20:59:07.398Z"
   },
   {
    "duration": 27666,
    "start_time": "2022-08-09T20:59:28.417Z"
   },
   {
    "duration": 310,
    "start_time": "2022-08-09T20:59:56.085Z"
   },
   {
    "duration": 0,
    "start_time": "2022-08-09T20:59:56.397Z"
   },
   {
    "duration": 0,
    "start_time": "2022-08-09T20:59:56.398Z"
   },
   {
    "duration": 0,
    "start_time": "2022-08-09T20:59:56.399Z"
   },
   {
    "duration": 0,
    "start_time": "2022-08-09T20:59:56.400Z"
   },
   {
    "duration": 0,
    "start_time": "2022-08-09T20:59:56.402Z"
   },
   {
    "duration": 0,
    "start_time": "2022-08-09T20:59:56.402Z"
   },
   {
    "duration": 20015,
    "start_time": "2022-08-09T21:14:05.218Z"
   },
   {
    "duration": 27182,
    "start_time": "2022-08-09T21:14:25.236Z"
   },
   {
    "duration": 5,
    "start_time": "2022-08-09T21:14:52.419Z"
   },
   {
    "duration": 13,
    "start_time": "2022-08-09T21:14:52.426Z"
   },
   {
    "duration": 706,
    "start_time": "2022-08-09T21:14:52.440Z"
   },
   {
    "duration": 736,
    "start_time": "2022-08-09T21:14:53.148Z"
   },
   {
    "duration": 5,
    "start_time": "2022-08-09T21:14:53.885Z"
   },
   {
    "duration": 14,
    "start_time": "2022-08-09T21:14:53.892Z"
   },
   {
    "duration": 207756,
    "start_time": "2022-08-09T21:14:53.908Z"
   },
   {
    "duration": 156,
    "start_time": "2022-08-10T08:45:35.482Z"
   }
  ],
  "kernelspec": {
   "display_name": "Python 3 (ipykernel)",
   "language": "python",
   "name": "python3"
  },
  "language_info": {
   "codemirror_mode": {
    "name": "ipython",
    "version": 3
   },
   "file_extension": ".py",
   "mimetype": "text/x-python",
   "name": "python",
   "nbconvert_exporter": "python",
   "pygments_lexer": "ipython3",
   "version": "3.9.13"
  },
  "toc": {
   "base_numbering": 1,
   "nav_menu": {},
   "number_sections": true,
   "sideBar": true,
   "skip_h1_title": true,
   "title_cell": "Содержание",
   "title_sidebar": "Содержание",
   "toc_cell": true,
   "toc_position": {
    "height": "498.4px",
    "left": "583px",
    "top": "154.125px",
    "width": "307.2px"
   },
   "toc_section_display": true,
   "toc_window_display": true
  }
 },
 "nbformat": 4,
 "nbformat_minor": 5
}
